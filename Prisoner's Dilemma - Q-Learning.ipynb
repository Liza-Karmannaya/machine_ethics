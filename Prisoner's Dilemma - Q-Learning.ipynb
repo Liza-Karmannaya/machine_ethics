{
 "cells": [
  {
   "cell_type": "markdown",
   "metadata": {},
   "source": [
    "## Prisoners Dilemma - working solution\n",
    "\n",
    "1. Run 10 games between 2 agents, using Tit for Tat strategy - see previous notebook \n",
    "2. Run 10 games between 5 agents? \n",
    "3. add Q-learning - learn the dominant strategy \n",
    "4. How to add something like social norm or morality to this? \n",
    "\ta. Add a player caring about how many years another player spends in jail \n",
    "\tb. Add trust? \n",
    "    c. Add player fearing retribution for confessing and testifying \n",
    "    \n"
   ]
  },
  {
   "cell_type": "markdown",
   "metadata": {},
   "source": [
    "### 1. Run 10 games between 2 agents, using Q-Learning to learn optimal strategy"
   ]
  },
  {
   "cell_type": "markdown",
   "metadata": {},
   "source": [
    "code based on https://subversion.american.edu/aisaac/notes/pdsim.htm"
   ]
  },
  {
   "cell_type": "code",
   "execution_count": 157,
   "metadata": {},
   "outputs": [],
   "source": [
    "import random \n",
    "import itertools \n",
    "import pandas as pd\n",
    "import numpy as np \n",
    "import matplotlib.pyplot as plt \n",
    "import seaborn as sns "
   ]
  },
  {
   "cell_type": "markdown",
   "metadata": {},
   "source": [
    " Define helper functions:"
   ]
  },
  {
   "cell_type": "code",
   "execution_count": 158,
   "metadata": {},
   "outputs": [],
   "source": [
    "def get_random_pairs(mylist): \n",
    "  # Generate all possible non-repeating pairs \n",
    "  pairs = list(itertools.combinations(mylist, 2)) \n",
    " \n",
    "  # Randomly shuffle these pairs \n",
    "  random.shuffle(pairs) \n",
    "  return pairs \n",
    "\n",
    "def mean(seq):  #simplest computation of mean\n",
    "    \"\"\"Return mean of values in `seq`.\"\"\"\n",
    "    n = len(seq)\n",
    "    return sum(seq)/float(n)\n",
    "\n",
    "def transpose(seqseq): #simple 2-dimensional transpose\n",
    "    \"\"\"Return transpose of `seqseq`.\"\"\"\n",
    "    return zip(*seqseq)"
   ]
  },
  {
   "cell_type": "markdown",
   "metadata": {},
   "source": [
    "We wil be using two objects (classes) - a Game and a Player: \n",
    "\n",
    "Game\n",
    "- Data: players, payoffmat, history, opponents\n",
    "- Methods: run, payoff\n",
    "\n",
    "Player\n",
    "- Data: playertype, games_player, players_played\n",
    "- Methods: get_last_move, make_own_move, record, reset\n",
    "\n",
    "An action is selected between “defection” (represented by True or integer 1) or “cooperation” (represented by False or integer 0). "
   ]
  },
  {
   "cell_type": "markdown",
   "metadata": {},
   "source": [
    "The table below illustrates the resulting interdependencies between objects when a game asks a player for a move. As part of selecting a move, the player first fetches the opponent's last move from the game. Once the player has this last move, it computes a move and returns it to the game that asked for it.\n",
    "\n",
    "|                Game               |              Player                       |\n",
    "|:---------------------------------:|:-----------------------------------------:|\n",
    "| 1. request move from Player       |                                           |                                 |\n",
    "|                                   | 2. start generating move                  |                                 |\n",
    "|                                   | 3. request opponent's last move           |\n",
    "|                                   | 4. compute opponent's last move by looking into the Game's in history |     |\n",
    "|                                   | 5. compute new move based on last move + the strategy                      |\n",
    "|                                   | 6. return new move to Game                |                                 |\n",
    "| 7. compute payoffs based on pair of moves        |                                           |                                 |"
   ]
  },
  {
   "cell_type": "code",
   "execution_count": 159,
   "metadata": {},
   "outputs": [],
   "source": [
    "class Game:\n",
    "    def __init__(self, player1, player2, payoffmat):\n",
    "        # initialize instance attributes\n",
    "        self.players = [ player1, player2 ]\n",
    "        self.payoffmat = payoffmat\n",
    "        self.history = list() #TO DO make this a circular array / queue instead \n",
    "        self.opponents = {player1:player2, player2:player1}\n",
    "    def run(self, game_iter=4):\n",
    "        # unpack the two players\n",
    "        player1, player2 = self.players\n",
    "        # each iteration, get new moves and append these to history\n",
    "        for iteration in range(game_iter):\n",
    "            #request move from player - use methods from the Player object\n",
    "            newmoves = player1.make_own_move(self), player2.make_own_move(self) \n",
    "            self.history.append(newmoves) #append pair of moves to the history attritbute of this game \n",
    "        # prompt players to record the game played (i.e., 'self') - ???? \n",
    "        player1.record(self); player2.record(self) #use methods from the Player object\n",
    "    def payoff(self):\n",
    "        # unpack the two players\n",
    "        player1, player2 = self.players #note we need to define these again from the __init__ method\n",
    "        # generate player-payoff pairs for each pair of moves (i.e. for each game iteration)\n",
    "        payoffs = (self.payoffmat[m1][m2] for (m1,m2) in self.history)\n",
    "        # transpose to get a payoff sequence for each player\n",
    "        pay1, pay2 = transpose(payoffs) # ????\n",
    "        # return a mapping of each player to its mean payoff\n",
    "        #return { player1:mean(pay1), player2:mean(pay2) }\n",
    "        return { player1:(pay1), player2:(pay2) }"
   ]
  },
  {
   "cell_type": "code",
   "execution_count": 248,
   "metadata": {},
   "outputs": [],
   "source": [
    "class Player:\n",
    "    def __init__(self, strategy):\n",
    "        self.p_cdi=(0,1,0.5) \n",
    "        #a tuple containing: \n",
    "        # (p(D) if opponent cooperates, \n",
    "        # p(C) if opponent cooperates, \n",
    "        # p(D) of defecting in the first move)\n",
    "        \n",
    "        # (p(C) if opponent defects, \n",
    "        # p(D) if opponent defects, \n",
    "        # p(D) of defecting in the first move)\n",
    "        \n",
    "        # (p(opposite move to opponent), \n",
    "        # p(same move as opponent), \n",
    "        # p(D) of defecting in the first move)\n",
    "        \n",
    "        self.reset() #defined below\n",
    "        self.strategy = strategy\n",
    "    def reset(self): \n",
    "        ''' assign empty lists to the player's games_played and players_played attributes. These attributes can \n",
    "        provide a player with “memory”, which can be augmented each time the player's record method is called.'''\n",
    "        self.games_played = list()   #empty list\n",
    "        self.players_played = list()  #empty list\n",
    "    def get_last_move(self, game):\n",
    "        ''' get opponent and learn their last move '''\n",
    "        opponent = game.opponents[self]\n",
    "        if game.history: # if history not empty, return prior move of `opponent`\n",
    "            player_idx = game.players.index(opponent)\n",
    "            last_move = game.history[-1][player_idx]\n",
    "        else:\n",
    "            last_move = None\n",
    "        return last_move\n",
    "    def make_own_move(self, game):\n",
    "        \n",
    "        if self.strategy == 'random':\n",
    "            return random.uniform(0,1) < 0.5\n",
    "        \n",
    "        else:\n",
    "            '''respond to opponent's last move using a reactive strategy based on 1 last move of the opponent'''\n",
    "            last_move = self.get_last_move(game)  \n",
    "            \n",
    "            if self.strategy == 'TitForTat': \n",
    "                if last_move is None: #if this is the initial move\n",
    "                    p_defect = self.p_cdi[-1]\n",
    "                else:\n",
    "                    p_defect = self.p_cdi[last_move]\n",
    "                return random.uniform(0,1) < p_defect\n",
    "        \n",
    "            elif self.strategy == 'Q-Learning greedy':\n",
    "                if last_move is None: #if this is the initial move\n",
    "                    p_defect = self.p_cdi[-1]\n",
    "                    return random.uniform(0,1) < p_defect\n",
    "                else:\n",
    "                    optimal_policy = list(np.argmax(Q_values, axis=1)) \n",
    "                    # store optimal action for that state(i.e. opponent's last_move), based on Q-Learning results\n",
    "                    return optimal_policy[last_move] > 0.5 #return 1 if last_move==True (=defect)\n",
    "        \n",
    "    def record(self, game):\n",
    "        self.games_played.append(game)\n",
    "        opponent = game.opponents[self]\n",
    "        self.players_played.append(opponent)\n"
   ]
  },
  {
   "cell_type": "code",
   "execution_count": 236,
   "metadata": {},
   "outputs": [
    {
     "data": {
      "text/plain": [
       "0"
      ]
     },
     "execution_count": 236,
     "metadata": {},
     "output_type": "execute_result"
    }
   ],
   "source": [
    "optimal_policy = list(np.argmax(Q_values, axis=1)) \n",
    "# store optimal action for that state(i.e. opponent's last_move), based on Q-Learning results\n",
    "\n",
    "optimal_policy[player1.get_last_move(game)]"
   ]
  },
  {
   "cell_type": "code",
   "execution_count": 235,
   "metadata": {},
   "outputs": [
    {
     "data": {
      "text/plain": [
       "False"
      ]
     },
     "execution_count": 235,
     "metadata": {},
     "output_type": "execute_result"
    }
   ],
   "source": [
    "player1.get_last_move(game)\n",
    "#opponent cooperated "
   ]
  },
  {
   "cell_type": "code",
   "execution_count": 222,
   "metadata": {},
   "outputs": [
    {
     "data": {
      "text/plain": [
       "0"
      ]
     },
     "execution_count": 222,
     "metadata": {},
     "output_type": "execute_result"
    }
   ],
   "source": [
    "[0,1,0][player1.get_last_move(game)]"
   ]
  },
  {
   "cell_type": "code",
   "execution_count": 223,
   "metadata": {},
   "outputs": [
    {
     "data": {
      "text/plain": [
       "0"
      ]
     },
     "execution_count": 223,
     "metadata": {},
     "output_type": "execute_result"
    }
   ],
   "source": [
    "list(test)[player1.get_last_move(game)]"
   ]
  },
  {
   "cell_type": "code",
   "execution_count": 224,
   "metadata": {},
   "outputs": [
    {
     "data": {
      "text/plain": [
       "((3, 3), (5, 0))"
      ]
     },
     "execution_count": 224,
     "metadata": {},
     "output_type": "execute_result"
    }
   ],
   "source": [
    "t1, t2 = transpose(PAYOFFMAT)\n",
    "t1"
   ]
  },
  {
   "cell_type": "code",
   "execution_count": 225,
   "metadata": {},
   "outputs": [
    {
     "data": {
      "text/plain": [
       "((0, 5), (1, 1))"
      ]
     },
     "execution_count": 225,
     "metadata": {},
     "output_type": "execute_result"
    }
   ],
   "source": [
    "t2"
   ]
  },
  {
   "cell_type": "markdown",
   "metadata": {},
   "source": [
    "To run game between 2 agents only"
   ]
  },
  {
   "cell_type": "code",
   "execution_count": 249,
   "metadata": {},
   "outputs": [
    {
     "name": "stdout",
     "output_type": "stream",
     "text": [
      "Player1 payoff:  1.9\n",
      "Player2 payoff:  3.4\n"
     ]
    },
    {
     "name": "stderr",
     "output_type": "stream",
     "text": [
      "/Users/lizakarmannaya/opt/anaconda3/lib/python3.7/site-packages/ipykernel_launcher.py:22: DeprecationWarning: In future, it will be an error for 'np.bool_' scalars to be interpreted as an index\n"
     ]
    }
   ],
   "source": [
    "## GAME: CDIGame with SimplePlayer\n",
    "# create a payoff matrix and two players\n",
    "PAYOFFMAT = [ [(3,3),(0,5)] , [(5,0),(1,1)] ]\n",
    "#PAYOFFMAT = [ [(-1,-1),(-3,0)] , [(0,-3),(-2,-2)] ]\n",
    "player1 = Player(strategy='Q-Learning greedy')\n",
    "player2 = Player(strategy='random')\n",
    "\n",
    "# create and run the game\n",
    "game = Game(player1, player2, PAYOFFMAT)\n",
    "game.run(10)\n",
    "# retrieve and print the payoffs\n",
    "payoffs = game.payoff()\n",
    "print(\"Player1 payoff: \", mean(payoffs[player1]))\n",
    "print(\"Player2 payoff: \", mean(payoffs[player2]))"
   ]
  },
  {
   "cell_type": "code",
   "execution_count": 250,
   "metadata": {},
   "outputs": [
    {
     "data": {
      "text/plain": [
       "[(True, True),\n",
       " (False, False),\n",
       " (False, False),\n",
       " (False, False),\n",
       " (False, False),\n",
       " (False, False),\n",
       " (False, True),\n",
       " (False, True),\n",
       " (False, True),\n",
       " (False, False)]"
      ]
     },
     "execution_count": 250,
     "metadata": {},
     "output_type": "execute_result"
    }
   ],
   "source": [
    "game.history"
   ]
  },
  {
   "cell_type": "markdown",
   "metadata": {},
   "source": [
    "Run game between >2 players, a pair at a time:"
   ]
  },
  {
   "cell_type": "code",
   "execution_count": 251,
   "metadata": {},
   "outputs": [],
   "source": [
    "## GAME: CDIGame with SimplePlayer\n",
    "# create a payoff matrix and two players \n",
    "PAYOFFMAT = [ [(3,3),(0,5)] , [(5,0),(1,1)] ]\n",
    "#PAYOFFMAT = [ [(-1,-1),(-3,0)] , [(0,-3),(-2,-2)] ]\n",
    "\n",
    "def run_one_game(player1, player2): \n",
    "    game = Game(player1, player2, PAYOFFMAT)\n",
    "    game.run(10)\n",
    "    # retrieve and print the payoffs\n",
    "    payoffs = game.payoff()\n",
    "    \n",
    "    print(\"Player1 payoff: \", mean(payoffs[player1]))\n",
    "    print(\"Player2 payoff: \", mean(payoffs[player2]))\n",
    "    \n",
    "    return game\n",
    "    \n",
    "\n",
    "def run_ipd_n_players(n=2): #default at least two players \n",
    "    player_names = []\n",
    "    for i in range(1,n+1):\n",
    "        name = 'player' + str(i) \n",
    "        player_names.append(name)\n",
    "    player_objects = [Player(strategy='TitForTat') for name in player_names]\n",
    "    \n",
    "    pairs_of_players = get_random_pairs(player_objects)\n",
    "    \n",
    "    i=0\n",
    "    games_history = [] \n",
    "    for pair in pairs_of_players: \n",
    "        i+=1\n",
    "        print(f'Game {i} betwen: {pair}')\n",
    "        game = run_one_game(pair[0], pair[1])\n",
    "        games_history.append(game)\n",
    "    \n",
    "    return games_history"
   ]
  },
  {
   "cell_type": "code",
   "execution_count": 252,
   "metadata": {},
   "outputs": [
    {
     "name": "stdout",
     "output_type": "stream",
     "text": [
      "Game 1 betwen: (<__main__.Player object at 0x7fe4475ee4d0>, <__main__.Player object at 0x7fe4475ee390>)\n",
      "Player1 payoff:  2.5\n",
      "Player2 payoff:  2.5\n",
      "Game 2 betwen: (<__main__.Player object at 0x7fe4475ee4d0>, <__main__.Player object at 0x7fe4475eeed0>)\n",
      "Player1 payoff:  2.5\n",
      "Player2 payoff:  2.5\n",
      "Game 3 betwen: (<__main__.Player object at 0x7fe4475eec90>, <__main__.Player object at 0x7fe4475eeed0>)\n",
      "Player1 payoff:  2.5\n",
      "Player2 payoff:  2.5\n",
      "Game 4 betwen: (<__main__.Player object at 0x7fe4475eec90>, <__main__.Player object at 0x7fe4475ee4d0>)\n",
      "Player1 payoff:  2.5\n",
      "Player2 payoff:  2.5\n",
      "Game 5 betwen: (<__main__.Player object at 0x7fe4475ee390>, <__main__.Player object at 0x7fe4475ee410>)\n",
      "Player1 payoff:  1.0\n",
      "Player2 payoff:  1.0\n",
      "Game 6 betwen: (<__main__.Player object at 0x7fe4475eec90>, <__main__.Player object at 0x7fe4475ee410>)\n",
      "Player1 payoff:  3.0\n",
      "Player2 payoff:  3.0\n",
      "Game 7 betwen: (<__main__.Player object at 0x7fe4475eeed0>, <__main__.Player object at 0x7fe4475ee410>)\n",
      "Player1 payoff:  1.0\n",
      "Player2 payoff:  1.0\n",
      "Game 8 betwen: (<__main__.Player object at 0x7fe4475ee4d0>, <__main__.Player object at 0x7fe4475ee410>)\n",
      "Player1 payoff:  1.0\n",
      "Player2 payoff:  1.0\n",
      "Game 9 betwen: (<__main__.Player object at 0x7fe4475eec90>, <__main__.Player object at 0x7fe4475ee390>)\n",
      "Player1 payoff:  2.5\n",
      "Player2 payoff:  2.5\n",
      "Game 10 betwen: (<__main__.Player object at 0x7fe4475ee390>, <__main__.Player object at 0x7fe4475eeed0>)\n",
      "Player1 payoff:  1.0\n",
      "Player2 payoff:  1.0\n"
     ]
    }
   ],
   "source": [
    "games_history = run_ipd_n_players(n=5)"
   ]
  },
  {
   "cell_type": "code",
   "execution_count": 91,
   "metadata": {},
   "outputs": [
    {
     "data": {
      "text/plain": [
       "['__class__',\n",
       " '__delattr__',\n",
       " '__dict__',\n",
       " '__dir__',\n",
       " '__doc__',\n",
       " '__eq__',\n",
       " '__format__',\n",
       " '__ge__',\n",
       " '__getattribute__',\n",
       " '__gt__',\n",
       " '__hash__',\n",
       " '__init__',\n",
       " '__init_subclass__',\n",
       " '__le__',\n",
       " '__lt__',\n",
       " '__module__',\n",
       " '__ne__',\n",
       " '__new__',\n",
       " '__reduce__',\n",
       " '__reduce_ex__',\n",
       " '__repr__',\n",
       " '__setattr__',\n",
       " '__sizeof__',\n",
       " '__str__',\n",
       " '__subclasshook__',\n",
       " '__weakref__',\n",
       " 'history',\n",
       " 'opponents',\n",
       " 'payoff',\n",
       " 'payoffmat',\n",
       " 'players',\n",
       " 'run']"
      ]
     },
     "execution_count": 91,
     "metadata": {},
     "output_type": "execute_result"
    }
   ],
   "source": [
    "dir(games_history[0])"
   ]
  },
  {
   "cell_type": "markdown",
   "metadata": {},
   "source": [
    "## Training the agent with Q-Learning \n",
    "\n",
    "1. explore the environment \n",
    "2. gradually improve its estimates of Q-values\n",
    "3. choose optimal policy (e.g. greedy policy with the highest q-value) "
   ]
  },
  {
   "cell_type": "markdown",
   "metadata": {},
   "source": [
    "state = (prev own action, prev opponent action).\n",
    "Therefore we can define one-step markov matrix as four probabilities: P(D'|CC), P(D'|CD), P(D'|DC), P(D'|DD)."
   ]
  },
  {
   "cell_type": "markdown",
   "metadata": {},
   "source": [
    "reference: https://github.com/ageron/handson-ml2/blob/master/18_reinforcement_learning.ipynb"
   ]
  },
  {
   "cell_type": "markdown",
   "metadata": {},
   "source": [
    "INSTEAD: state = single previous action from the opponent; state 0 = opponent defected in the last move; state 1 = opponent Cooperated in the last move"
   ]
  },
  {
   "cell_type": "code",
   "execution_count": null,
   "metadata": {},
   "outputs": [],
   "source": [
    "#states possible: opponent cooperated; opponent defected in previous move"
   ]
  },
  {
   "cell_type": "code",
   "execution_count": 253,
   "metadata": {},
   "outputs": [],
   "source": [
    "transition_probabilities = [ # shape=[s, a, s']\n",
    "#        [[1, 0], [0, 1]],\n",
    "#        [[1, 0], [0, 1]]]\n",
    "    \n",
    "        [[0.5, 0.5], [0.5, 0.5]],\n",
    "        [[0.5, 0.5], [0.5, 0.5]]]\n",
    "\n",
    "\n",
    "\n",
    "#[state(=opponent_prev_move), agent_action] = [CC, CD, DC, DD]\n",
    "\n",
    "#rewards = [ # shape=[s, a, s']\n",
    "#        [[-1, -1], [-3, 0]],\n",
    "#        [[0, -3], [-2, -2]]]\n",
    "\n",
    "rewards = [ # shape=[s, a, s']\n",
    "    [[3,3], [0,5]], \n",
    "    [[5,0], [1,1]]]\n",
    "\n",
    "possible_actions = [[0, 1], [0, 1]] #C,D"
   ]
  },
  {
   "cell_type": "code",
   "execution_count": 101,
   "metadata": {},
   "outputs": [
    {
     "data": {
      "text/plain": [
       "[[[3, 3], [0, 5]], [[5, 0], [1, 1]]]"
      ]
     },
     "execution_count": 101,
     "metadata": {},
     "output_type": "execute_result"
    }
   ],
   "source": [
    "rewards"
   ]
  },
  {
   "cell_type": "code",
   "execution_count": 119,
   "metadata": {},
   "outputs": [],
   "source": [
    "def step(state, action):\n",
    "    '''function to interact with the environment (i.e. the game).\n",
    "    It takes a state and action as input and computes reward and next state as output.'''\n",
    "    probas = transition_probabilities[state][action]\n",
    "    next_state = np.random.choice([0, 1], p=probas)\n",
    "    #next_state = np.random.choice([0, 1])\n",
    "    reward = rewards[state][action][next_state]\n",
    "    return next_state, reward"
   ]
  },
  {
   "cell_type": "code",
   "execution_count": 120,
   "metadata": {},
   "outputs": [
    {
     "data": {
      "text/plain": [
       "(0, 3)"
      ]
     },
     "execution_count": 120,
     "metadata": {},
     "output_type": "execute_result"
    }
   ],
   "source": [
    "#test that the step function works correctly \n",
    "test_next_state, test_reward = step(0,0) #if state (opponent's prev move) = C & my action = D\n",
    "test_next_state, test_reward"
   ]
  },
  {
   "cell_type": "code",
   "execution_count": 121,
   "metadata": {},
   "outputs": [],
   "source": [
    "def exploration_policy(state):\n",
    "    return np.random.choice(possible_actions[state])"
   ]
  },
  {
   "cell_type": "code",
   "execution_count": 122,
   "metadata": {},
   "outputs": [
    {
     "name": "stdout",
     "output_type": "stream",
     "text": [
      "state: 0, possible actions: [0, 1]\n",
      "state: 1, possible actions: [0, 1]\n"
     ]
    }
   ],
   "source": [
    "for state, actions in enumerate(possible_actions):\n",
    "    print(f'state: {state}, possible actions: {actions}')"
   ]
  },
  {
   "cell_type": "code",
   "execution_count": 296,
   "metadata": {},
   "outputs": [],
   "source": [
    "np.random.seed(42)\n",
    "\n",
    "Q_values = np.full((2, 2), -np.inf)\n",
    "for state, actions in enumerate(possible_actions):\n",
    "    Q_values[state][actions] = 0\n",
    "\n",
    "alpha0 = 0.3 # initial learning rate\n",
    "decay = 0.005 # learning rate decay\n",
    "gamma = 0.90 # discount factor\n",
    "state = 0 # initial state\n",
    "history2 = [] # Not shown in the book\n",
    "\n",
    "for iteration in range(10000):\n",
    "    history2.append(Q_values.copy()) # Not shown\n",
    "    action = exploration_policy(state)\n",
    "    next_state, reward = step(state, action)\n",
    "    next_value = np.max(Q_values[next_state]) # greedy policy at the next step\n",
    "    alpha = alpha0 / (1 + iteration * decay)\n",
    "    Q_values[state, action] *= 1 - alpha\n",
    "    Q_values[state, action] += alpha * (reward + gamma * next_value) # -Q_values[state, action]) #is the final term needed??\n",
    "    state = next_state\n",
    "\n",
    "history2 = np.array(history2) # Not shown"
   ]
  },
  {
   "cell_type": "code",
   "execution_count": 297,
   "metadata": {},
   "outputs": [
    {
     "data": {
      "text/plain": [
       "array([[27.8184048 , 27.13461633],\n",
       "       [27.26617522, 25.82949414]])"
      ]
     },
     "execution_count": 297,
     "metadata": {},
     "output_type": "execute_result"
    }
   ],
   "source": [
    "Q_values"
   ]
  },
  {
   "cell_type": "code",
   "execution_count": 298,
   "metadata": {},
   "outputs": [
    {
     "data": {
      "text/plain": [
       "array([0, 0])"
      ]
     },
     "execution_count": 298,
     "metadata": {},
     "output_type": "execute_result"
    }
   ],
   "source": [
    "np.argmax(Q_values, axis=1) # optimal action for each state"
   ]
  },
  {
   "cell_type": "code",
   "execution_count": 290,
   "metadata": {},
   "outputs": [],
   "source": [
    "Q_values = np.full((2, 2), -np.inf)\n",
    "for state, actions in enumerate(possible_actions):\n",
    "    Q_values[state][actions] = 0\n",
    "    \n",
    "history1 = [] # Not shown in the book (for the figure below)\n",
    "for iteration in range(50):\n",
    "    Q_prev = Q_values.copy()\n",
    "    history1.append(Q_prev) # Not shown\n",
    "    for s in range(2):\n",
    "        for a in possible_actions[s]:\n",
    "            Q_values[s, a] = np.sum([\n",
    "                    transition_probabilities[s][a][sp]\n",
    "                    * (rewards[s][a][sp] + gamma * np.max(Q_prev[sp]))\n",
    "                for sp in range(2)])\n",
    "\n",
    "history1 = np.array(history1) # Not shown"
   ]
  },
  {
   "cell_type": "code",
   "execution_count": 291,
   "metadata": {},
   "outputs": [
    {
     "data": {
      "text/plain": [
       "array([[27.59252354, 27.09252354],\n",
       "       [27.09252354, 25.59252354]])"
      ]
     },
     "execution_count": 291,
     "metadata": {},
     "output_type": "execute_result"
    }
   ],
   "source": [
    "history1[-1]"
   ]
  },
  {
   "cell_type": "code",
   "execution_count": 292,
   "metadata": {},
   "outputs": [
    {
     "data": {
      "image/png": "[encoded data removed]",
      "text/plain": [
       "<Figure size 720x288 with 2 Axes>"
      ]
     },
     "metadata": {
      "needs_background": "light"
     },
     "output_type": "display_data"
    }
   ],
   "source": [
    "true_Q_value = history1[-1, 0, 0]\n",
    "\n",
    "fig, axes = plt.subplots(1, 2, figsize=(10, 4), sharey=True)\n",
    "axes[0].set_ylabel(\"Q-Value$(s_0, a_0)$\", fontsize=14)\n",
    "axes[0].set_title(\"Q-Value Iteration\", fontsize=14)\n",
    "axes[1].set_title(\"Q-Learning\", fontsize=14)\n",
    "for ax, width, history in zip(axes, (50, 10000), (history1, history2)):\n",
    "    ax.plot([0, width], [true_Q_value, true_Q_value], \"k--\")\n",
    "    ax.plot(np.arange(width), history[:, 0, 0], \"b-\", linewidth=2)\n",
    "    ax.set_xlabel(\"Iterations\", fontsize=14)\n",
    "    ax.axis([0, width, 0, 34])"
   ]
  },
  {
   "cell_type": "markdown",
   "metadata": {},
   "source": [
    "Experimentation showed that alpha=0.05 was too small - it never learnt the true Q-value.  0.1 also never converges to the actual Q-value. I've gone ahead with a learning rate of 0.3 here."
   ]
  },
  {
   "cell_type": "code",
   "execution_count": null,
   "metadata": {},
   "outputs": [],
   "source": []
  },
  {
   "cell_type": "code",
   "execution_count": null,
   "metadata": {},
   "outputs": [],
   "source": []
  }
 ],
 "metadata": {
  "kernelspec": {
   "display_name": "Python 3",
   "language": "python",
   "name": "python3"
  },
  "language_info": {
   "codemirror_mode": {
    "name": "ipython",
    "version": 3
   },
   "file_extension": ".py",
   "mimetype": "text/x-python",
   "name": "python",
   "nbconvert_exporter": "python",
   "pygments_lexer": "ipython3",
   "version": "3.7.4"
  }
 },
 "nbformat": 4,
 "nbformat_minor": 2
}
